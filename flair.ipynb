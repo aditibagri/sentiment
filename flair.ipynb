!pip install flair
from flair.models import TextClassifier
from flair.data import Sentence

# Load the pre-trained sentiment analysis model
classifier = TextClassifier.load('en-sentiment')

# Define a function to predict the sentiment label
def predict_sentiment(review):
    # Create a sentence object
    sentence = Sentence(review)
    
    # Apply the sentiment analysis model
    classifier.predict(sentence)
    
    # Get the predicted sentiment label
    label = sentence.labels[0]
    
    # Map the label value to positive, negative, or neutral
    if label.value == 'POSITIVE':
        return 'positive'
    elif label.value == 'NEGATIVE':
        return 'negative'
    else:
        return 'neutral'
        
# Test the function on some reviews
reviews = [
    'This is the best movie ever!',
    'I hated this restaurant, the food was terrible.',
    'The service at this hotel was average.',
    'I absolutely loved this book!',
    "DONT BUY THESE!	Do not buy these! They break very fast I spun then for 15 minutes and the end flew off don't waste your money. They are made from cheap plastic and have cracks in them. Buy the poi balls they work a lot better if you only have limited funds."
]

for review in reviews:
    print(predict_sentiment(review))
