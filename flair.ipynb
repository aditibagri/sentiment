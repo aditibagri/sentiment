{
 "cells": [
  {
   "cell_type": "code",
   "execution_count": null,
   "metadata": {},
   "outputs": [],
   "source": [
    "from flair.models import TextClassifier\n",
    "from flair.data import Sentence\n",
    "\n",
    "# Load the pre-trained sentiment analysis model\n",
    "classifier = TextClassifier.load('en-sentiment')\n",
    "\n",
    "# Define a function to predict the sentiment label\n",
    "def predict_sentiment(review):\n",
    "    # Create a sentence object\n",
    "    sentence = Sentence(review)\n",
    "    \n",
    "    # Apply the sentiment analysis model\n",
    "    classifier.predict(sentence)\n",
    "    \n",
    "    # Get the predicted sentiment label\n",
    "    label = sentence.labels[0]\n",
    "    \n",
    "    # Map the label value to positive, negative, or neutral\n",
    "    if label.value == 'POSITIVE':\n",
    "        return 'positive'\n",
    "    elif label.value == 'NEGATIVE':\n",
    "        return 'negative'\n",
    "    else:\n",
    "        return 'neutral'\n",
    "        \n",
    "# Test the function on some reviews\n",
    "reviews = [\n",
    "    'This is the best movie ever!',\n",
    "    'I hated this restaurant, the food was terrible.',\n",
    "    'The service at this hotel was average.',\n",
    "    'I absolutely loved this book!'\n",
    "]\n",
    "\n",
    "for review in reviews:\n",
    "    print(predict_sentiment(review))\n"
   ]
  }
 ],
 "metadata": {
  "kernelspec": {
   "display_name": "Python 3.10.7 64-bit",
   "language": "python",
   "name": "python3"
  },
  "language_info": {
   "name": "python",
   "version": "3.10.7"
  },
  "orig_nbformat": 4,
  "vscode": {
   "interpreter": {
    "hash": "aee8b7b246df8f9039afb4144a1f6fd8d2ca17a180786b69acc140d282b71a49"
   }
  }
 },
 "nbformat": 4,
 "nbformat_minor": 2
}
