{
 "cells": [
  {
   "cell_type": "code",
   "execution_count": null,
   "metadata": {},
   "outputs": [],
   "source": [
    "import RAKE\n",
    "import nltk\n",
    "from nltk.corpus import stopwords\n",
    "nltk.download('stopwords')\n",
    "\n",
    "# Load RAKE\n",
    "rake = RAKE.Rake(stopwords.words('english'))\n",
    "\n",
    "# Sample review text\n",
    "review = \"I bought this product on a whim and I am so glad I did! It has made such a difference in my life. The design is sleek and modern, and the quality is excellent. I love the features, especially the easy-to-use interface and the long battery life. The only downside is that it can be a bit heavy to carry around.\"\n",
    "\n",
    "# Extract keywords using RAKE\n",
    "keywords = rake.extract_keywords_from_text(review)\n",
    "\n",
    "# Print keywords\n",
    "print(keywords)\n"
   ]
  }
 ],
 "metadata": {
  "kernelspec": {
   "display_name": "Python 3.10.7 64-bit",
   "language": "python",
   "name": "python3"
  },
  "language_info": {
   "name": "python",
   "version": "3.10.7"
  },
  "orig_nbformat": 4,
  "vscode": {
   "interpreter": {
    "hash": "aee8b7b246df8f9039afb4144a1f6fd8d2ca17a180786b69acc140d282b71a49"
   }
  }
 },
 "nbformat": 4,
 "nbformat_minor": 2
}
