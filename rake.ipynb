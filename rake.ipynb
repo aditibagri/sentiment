import RAKE
import nltk
from nltk.corpus import stopwords
nltk.download('stopwords')

# Load RAKE
rake = RAKE.Rake(stopwords.words('english'))

# Sample review text
review = "I bought this product on a whim and I am so glad I did! It has made such a difference in my life. The design is sleek and modern, and the quality is excellent. I love the features, especially the easy-to-use interface and the long battery life. The only downside is that it can be a bit heavy to carry around."

# Extract keywords using RAKE
keywords = rake.extract_keywords_from_text(review)

# Print keywords
print(keywords)
